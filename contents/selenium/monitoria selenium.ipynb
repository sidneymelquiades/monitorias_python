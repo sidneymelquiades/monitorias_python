{
 "cells": [
  {
   "cell_type": "markdown",
   "id": "f7bfbf1d",
   "metadata": {},
   "source": [
    "<img src=\"https://www.google.com/url?sa=i&url=https%3A%2F%2Fpt.m.wikipedia.org%2Fwiki%2FFicheiro%3AHDI_Seguros_Brasil_-_Logo_2020.png&psig=AOvVaw2ClaF6sMNfAosgzF14HhRv&ust=1698183636409000&source=images&cd=vfe&ved=0CBEQjRxqFwoTCNDdkJWRjYIDFQAAAAAdAAAAABAE\">\n",
    "\n",
    "## Monitoria Python 01 _ Webscraping com Selenium\n",
    "\n",
    "O Objetivo desse aula é capacitar o uso do Selenium para automatizações WEB"
   ]
  },
  {
   "cell_type": "code",
   "execution_count": null,
   "id": "49e2a858",
   "metadata": {},
   "outputs": [],
   "source": [
    "!pip install selenium"
   ]
  },
  {
   "cell_type": "code",
   "execution_count": 6,
   "id": "ba37d4c6",
   "metadata": {},
   "outputs": [],
   "source": [
    "from time import sleep, time\n",
    "from selenium.webdriver.common.by import By\n",
    "from datetime import datetime, timedelta\n",
    "import os\n",
    "import shutil\n",
    "import zipfile\n",
    "from selenium import webdriver\n",
    "from selenium.webdriver.firefox.options import Options"
   ]
  },
  {
   "cell_type": "code",
   "execution_count": 7,
   "id": "9eda3158",
   "metadata": {},
   "outputs": [],
   "source": [
    "login='LOGIN'\n",
    "senha='SENHA'\n",
    "site=\"https://portal.statisticsquiver.com.br/login\""
   ]
  },
  {
   "cell_type": "code",
   "execution_count": 8,
   "id": "898c628f",
   "metadata": {},
   "outputs": [],
   "source": [
    "def quiver_name():\n",
    "    data_calculo = datetime.today() - timedelta(days=4)\n",
    "    arq_name = \"\"\n",
    "    if data_calculo.month < 10:\n",
    "\n",
    "        if data_calculo.day < 10:\n",
    "            # HDI AUTO 27062023\n",
    "            arq_name = \"HDI AUTO \" + \"0\" + str(data_calculo.day) + \"0\" + str(data_calculo.month) + str(\n",
    "                data_calculo.year)\n",
    "        else:\n",
    "            arq_name = \"HDI AUTO \" + str(data_calculo.day) + \"0\" + str(data_calculo.month) + str(\n",
    "                data_calculo.year)\n",
    "    else:\n",
    "        if data_calculo.day < 10:\n",
    "            arq_name = \"HDI AUTO \" + \"0\" + str(data_calculo.day) + str(data_calculo.month) + str(\n",
    "                data_calculo.year)\n",
    "        else:\n",
    "            arq_name = \"HDI AUTO \" + str(data_calculo.day) + str(data_calculo.month) + str(data_calculo.year)\n",
    "\n",
    "    return arq_name"
   ]
  },
  {
   "cell_type": "code",
   "execution_count": 9,
   "id": "5e845777",
   "metadata": {},
   "outputs": [
    {
     "name": "stderr",
     "output_type": "stream",
     "text": [
      "C:\\Users\\sidneyd\\AppData\\Local\\Temp\\ipykernel_12992\\2063777199.py:3: DeprecationWarning: executable_path has been deprecated, please pass in a Service object\n",
      "  driver=webdriver.Firefox(executable_path=r'C:\\Users\\sidneyd\\PycharmProjects\\market_price\\geckodriver.exe',  options=options)\n"
     ]
    }
   ],
   "source": [
    "options = Options()\n",
    "options.binary_location = r'C:\\Users\\sidneyd\\AppData\\Local\\Mozilla Firefox\\firefox.exe'\n",
    "driver=webdriver.Firefox(executable_path=r'C:\\Users\\sidneyd\\PycharmProjects\\market_price\\geckodriver.exe',  options=options)\n",
    "driver.get(site)"
   ]
  },
  {
   "cell_type": "code",
   "execution_count": 10,
   "id": "c4fa5044",
   "metadata": {},
   "outputs": [],
   "source": [
    "\n",
    "loginbtn=driver.find_element(By.CSS_SELECTOR, \"#email\")\n",
    "loginbtn.send_keys(login)\n",
    "passbtn=driver.find_element(By.CSS_SELECTOR, \"#password\")\n",
    "passbtn.send_keys(senha)\n",
    "enterbtn=driver.find_element(By.CSS_SELECTOR, \"#loginForm > div.form-group.mb-0.text-center > button\")\n",
    "enterbtn.click()\n",
    "sleep(3)\n",
    "arquivobtn=driver.find_element(By.CSS_SELECTOR, 'body > div > div:nth-child(1) > div > div.col-5.d-flex.justify-content-center > button:nth-child(1)')\n",
    "arquivobtn.click()\n",
    "sleep(3)\n",
    "searchbox=driver.find_element(By.CSS_SELECTOR, '#example_filter > label > input')\n",
    "searchbox.send_keys(quiver_name())\n",
    "sleep(2)\n",
    "download=driver.find_element(By.CSS_SELECTOR, '#example > tbody > tr > td:nth-child(3) > a')\n",
    "download.click()\n",
    "sleep(30)"
   ]
  },
  {
   "cell_type": "code",
   "execution_count": null,
   "id": "4789e77e",
   "metadata": {},
   "outputs": [],
   "source": []
  }
 ],
 "metadata": {
  "kernelspec": {
   "display_name": "Python 3 (ipykernel)",
   "language": "python",
   "name": "python3"
  },
  "language_info": {
   "codemirror_mode": {
    "name": "ipython",
    "version": 3
   },
   "file_extension": ".py",
   "mimetype": "text/x-python",
   "name": "python",
   "nbconvert_exporter": "python",
   "pygments_lexer": "ipython3",
   "version": "3.9.13"
  }
 },
 "nbformat": 4,
 "nbformat_minor": 5
}
